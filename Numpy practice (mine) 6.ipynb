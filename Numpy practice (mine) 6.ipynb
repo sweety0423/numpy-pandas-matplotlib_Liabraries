{
 "cells": [
  {
   "cell_type": "markdown",
   "id": "37d819f5",
   "metadata": {},
   "source": [
    "# Some important NumPy functions"
   ]
  },
  {
   "cell_type": "code",
   "execution_count": 1,
   "id": "06479f24",
   "metadata": {},
   "outputs": [],
   "source": [
    "import numpy as np"
   ]
  },
  {
   "cell_type": "code",
   "execution_count": 3,
   "id": "dac2ff0c",
   "metadata": {},
   "outputs": [
    {
     "data": {
      "text/plain": [
       "0.8982037854327635"
      ]
     },
     "execution_count": 3,
     "metadata": {},
     "output_type": "execute_result"
    }
   ],
   "source": [
    "# random module\n",
    "np.random.random()"
   ]
  },
  {
   "cell_type": "code",
   "execution_count": 8,
   "id": "fdb8f5ac",
   "metadata": {},
   "outputs": [
    {
     "data": {
      "text/plain": [
       "0.417022004702574"
      ]
     },
     "execution_count": 8,
     "metadata": {},
     "output_type": "execute_result"
    }
   ],
   "source": [
    "np.random.seed(1)\n",
    "np.random.random()# it will return sam erandom value again and again after runing the input"
   ]
  },
  {
   "cell_type": "code",
   "execution_count": 9,
   "id": "07c77b0c",
   "metadata": {},
   "outputs": [
    {
     "data": {
      "text/plain": [
       "0.7203244934421581"
      ]
     },
     "execution_count": 9,
     "metadata": {},
     "output_type": "execute_result"
    }
   ],
   "source": [
    "np.random.random()"
   ]
  },
  {
   "cell_type": "code",
   "execution_count": 12,
   "id": "6bb0fffe",
   "metadata": {},
   "outputs": [
    {
     "data": {
      "text/plain": [
       "4.418660581054718"
      ]
     },
     "execution_count": 12,
     "metadata": {},
     "output_type": "execute_result"
    }
   ],
   "source": [
    "np.random.uniform(2,10) #  it will give any random float value between the given range i.e.,2,10"
   ]
  },
  {
   "cell_type": "code",
   "execution_count": 13,
   "id": "b879fc47",
   "metadata": {},
   "outputs": [
    {
     "data": {
      "text/plain": [
       "15.870235632684523"
      ]
     },
     "execution_count": 13,
     "metadata": {},
     "output_type": "execute_result"
    }
   ],
   "source": [
    "np.random.uniform(10,50)"
   ]
  },
  {
   "cell_type": "code",
   "execution_count": 15,
   "id": "b1f2674a",
   "metadata": {},
   "outputs": [
    {
     "data": {
      "text/plain": [
       "array([7.36374008, 5.33843842, 6.46951863, 3.12309551, 3.58481191,\n",
       "       8.40595655, 9.74609261, 4.50739343, 7.53858093, 9.01111322])"
      ]
     },
     "execution_count": 15,
     "metadata": {},
     "output_type": "execute_result"
    }
   ],
   "source": [
    "np.random.uniform(2,10,10) # we will get 10 random value as the length given is 10 between the range 2,10"
   ]
  },
  {
   "cell_type": "code",
   "execution_count": 16,
   "id": "c43642a7",
   "metadata": {},
   "outputs": [
    {
     "data": {
      "text/plain": [
       "array([[9.15685331, 2.68035369, 2.31243827, 3.35864336, 9.02514003],\n",
       "       [2.78677467, 5.368861  , 9.66311624, 6.26532228, 7.53501691]])"
      ]
     },
     "execution_count": 16,
     "metadata": {},
     "output_type": "execute_result"
    }
   ],
   "source": [
    "np.random.uniform(2,10,10).reshape(2,5)# 2 such array with 5 length each"
   ]
  },
  {
   "cell_type": "code",
   "execution_count": 17,
   "id": "89f39b80",
   "metadata": {},
   "outputs": [
    {
     "data": {
      "text/plain": [
       "12"
      ]
     },
     "execution_count": 17,
     "metadata": {},
     "output_type": "execute_result"
    }
   ],
   "source": [
    "np.random.randint(1,18) # generating random integer"
   ]
  },
  {
   "cell_type": "code",
   "execution_count": 18,
   "id": "0b7cf12c",
   "metadata": {},
   "outputs": [
    {
     "data": {
      "text/plain": [
       "array([[5, 1, 4, 3, 1],\n",
       "       [5, 3, 8, 8, 9],\n",
       "       [7, 4, 8, 8, 5]])"
      ]
     },
     "execution_count": 18,
     "metadata": {},
     "output_type": "execute_result"
    }
   ],
   "source": [
    "np.random.randint(1,10,15).reshape(3,5)"
   ]
  },
  {
   "cell_type": "code",
   "execution_count": 19,
   "id": "b58946d0",
   "metadata": {},
   "outputs": [],
   "source": [
    "a=np.random.randint(1,10,6)"
   ]
  },
  {
   "cell_type": "code",
   "execution_count": 20,
   "id": "44738f3b",
   "metadata": {},
   "outputs": [
    {
     "data": {
      "text/plain": [
       "array([6, 4, 7, 9, 1, 3])"
      ]
     },
     "execution_count": 20,
     "metadata": {},
     "output_type": "execute_result"
    }
   ],
   "source": [
    "a"
   ]
  },
  {
   "cell_type": "code",
   "execution_count": 21,
   "id": "0fee86e4",
   "metadata": {},
   "outputs": [
    {
     "data": {
      "text/plain": [
       "9"
      ]
     },
     "execution_count": 21,
     "metadata": {},
     "output_type": "execute_result"
    }
   ],
   "source": [
    "np.max(a)\n"
   ]
  },
  {
   "cell_type": "code",
   "execution_count": 23,
   "id": "6f70c807",
   "metadata": {},
   "outputs": [
    {
     "data": {
      "text/plain": [
       "1"
      ]
     },
     "execution_count": 23,
     "metadata": {},
     "output_type": "execute_result"
    }
   ],
   "source": [
    "np.min(a)"
   ]
  },
  {
   "cell_type": "code",
   "execution_count": 24,
   "id": "5669f805",
   "metadata": {},
   "outputs": [
    {
     "data": {
      "text/plain": [
       "3"
      ]
     },
     "execution_count": 24,
     "metadata": {},
     "output_type": "execute_result"
    }
   ],
   "source": [
    "np.argmax(a) # it will give the index of max in the array"
   ]
  },
  {
   "cell_type": "code",
   "execution_count": 25,
   "id": "651579ef",
   "metadata": {},
   "outputs": [
    {
     "data": {
      "text/plain": [
       "4"
      ]
     },
     "execution_count": 25,
     "metadata": {},
     "output_type": "execute_result"
    }
   ],
   "source": [
    "np.argmin(a)"
   ]
  },
  {
   "cell_type": "code",
   "execution_count": 26,
   "id": "9bad56a4",
   "metadata": {},
   "outputs": [
    {
     "data": {
      "text/plain": [
       "1"
      ]
     },
     "execution_count": 26,
     "metadata": {},
     "output_type": "execute_result"
    }
   ],
   "source": [
    "a[np.argmin(a)] # return the min value"
   ]
  },
  {
   "cell_type": "code",
   "execution_count": 27,
   "id": "5ad29d2f",
   "metadata": {},
   "outputs": [],
   "source": [
    "a=np.random.randint(1,10,6)"
   ]
  },
  {
   "cell_type": "code",
   "execution_count": 28,
   "id": "0e00cca1",
   "metadata": {},
   "outputs": [
    {
     "data": {
      "text/plain": [
       "array([8, 8, 8, 4, 1, 9])"
      ]
     },
     "execution_count": 28,
     "metadata": {},
     "output_type": "execute_result"
    }
   ],
   "source": [
    "a"
   ]
  },
  {
   "cell_type": "code",
   "execution_count": 29,
   "id": "29dfd743",
   "metadata": {},
   "outputs": [
    {
     "data": {
      "text/plain": [
       "array([ 8,  8,  8,  4, -1, -1])"
      ]
     },
     "execution_count": 29,
     "metadata": {},
     "output_type": "execute_result"
    }
   ],
   "source": [
    "a[a%2==1]=-1 # replace all the odd no with -1\n",
    "a"
   ]
  },
  {
   "cell_type": "code",
   "execution_count": 32,
   "id": "5ae02aee",
   "metadata": {},
   "outputs": [],
   "source": [
    "\n",
    "a=np.random.randint(1,50,8)\n"
   ]
  },
  {
   "cell_type": "code",
   "execution_count": 33,
   "id": "5067d8e1",
   "metadata": {},
   "outputs": [
    {
     "data": {
      "text/plain": [
       "array([14,  7, 22,  7,  3, 13, 28, 22])"
      ]
     },
     "execution_count": 33,
     "metadata": {},
     "output_type": "execute_result"
    }
   ],
   "source": [
    "a"
   ]
  },
  {
   "cell_type": "code",
   "execution_count": 34,
   "id": "f3385c96",
   "metadata": {},
   "outputs": [
    {
     "data": {
      "text/plain": [
       "array([14, -1, 22, -1, -1, -1, 28, 22])"
      ]
     },
     "execution_count": 34,
     "metadata": {},
     "output_type": "execute_result"
    }
   ],
   "source": [
    "a[a%2==1]=-1 \n",
    "a"
   ]
  },
  {
   "cell_type": "code",
   "execution_count": 36,
   "id": "8aff9f9a",
   "metadata": {},
   "outputs": [
    {
     "data": {
      "text/plain": [
       "array([14,  1, 22,  1,  1,  1, 28, 22])"
      ]
     },
     "execution_count": 36,
     "metadata": {},
     "output_type": "execute_result"
    }
   ],
   "source": [
    "#where(conditon, True,False)\n",
    "np.where(a%2==1,1,a)"
   ]
  },
  {
   "cell_type": "code",
   "execution_count": 37,
   "id": "19c129f5",
   "metadata": {},
   "outputs": [
    {
     "data": {
      "text/plain": [
       "array([14, -1, 22, -1, -1, -1, 28, 22])"
      ]
     },
     "execution_count": 37,
     "metadata": {},
     "output_type": "execute_result"
    }
   ],
   "source": [
    "out=np.where(a%2==1,-1,a)\n",
    "out  #where command"
   ]
  },
  {
   "cell_type": "code",
   "execution_count": 38,
   "id": "f92413ea",
   "metadata": {},
   "outputs": [
    {
     "data": {
      "text/plain": [
       "array([12,  8, 14,  9, 12, 13, 44, 21, 31, 37])"
      ]
     },
     "execution_count": 38,
     "metadata": {},
     "output_type": "execute_result"
    }
   ],
   "source": [
    "a=np.random.randint(1,50,10)\n",
    "a"
   ]
  },
  {
   "cell_type": "code",
   "execution_count": 39,
   "id": "5848d91d",
   "metadata": {},
   "outputs": [
    {
     "data": {
      "text/plain": [
       "array([ 8,  9, 12, 12, 13, 14, 21, 31, 37, 44])"
      ]
     },
     "execution_count": 39,
     "metadata": {},
     "output_type": "execute_result"
    }
   ],
   "source": [
    "a=np.sort(a)\n",
    "a"
   ]
  },
  {
   "cell_type": "code",
   "execution_count": 40,
   "id": "e9fccbf0",
   "metadata": {},
   "outputs": [
    {
     "data": {
      "text/plain": [
       "12.0"
      ]
     },
     "execution_count": 40,
     "metadata": {},
     "output_type": "execute_result"
    }
   ],
   "source": [
    "#percentile function\n",
    "np.percentile(a,25) #25%percentile"
   ]
  },
  {
   "cell_type": "code",
   "execution_count": 41,
   "id": "af139654",
   "metadata": {},
   "outputs": [
    {
     "data": {
      "text/plain": [
       "13.5"
      ]
     },
     "execution_count": 41,
     "metadata": {},
     "output_type": "execute_result"
    }
   ],
   "source": [
    "np.percentile(a,50)# we will get 50% of my array is less than that particular value"
   ]
  },
  {
   "cell_type": "code",
   "execution_count": 42,
   "id": "fea6a8e4",
   "metadata": {},
   "outputs": [
    {
     "data": {
      "text/plain": [
       "44.0"
      ]
     },
     "execution_count": 42,
     "metadata": {},
     "output_type": "execute_result"
    }
   ],
   "source": [
    "np.percentile(a,100)"
   ]
  },
  {
   "cell_type": "code",
   "execution_count": 44,
   "id": "e1379687",
   "metadata": {},
   "outputs": [
    {
     "data": {
      "text/plain": [
       "43.873999999999995"
      ]
     },
     "execution_count": 44,
     "metadata": {},
     "output_type": "execute_result"
    }
   ],
   "source": [
    "np.percentile(a,99.8)"
   ]
  },
  {
   "cell_type": "code",
   "execution_count": null,
   "id": "d53e7913",
   "metadata": {},
   "outputs": [],
   "source": []
  }
 ],
 "metadata": {
  "kernelspec": {
   "display_name": "Python 3 (ipykernel)",
   "language": "python",
   "name": "python3"
  },
  "language_info": {
   "codemirror_mode": {
    "name": "ipython",
    "version": 3
   },
   "file_extension": ".py",
   "mimetype": "text/x-python",
   "name": "python",
   "nbconvert_exporter": "python",
   "pygments_lexer": "ipython3",
   "version": "3.11.5"
  }
 },
 "nbformat": 4,
 "nbformat_minor": 5
}
