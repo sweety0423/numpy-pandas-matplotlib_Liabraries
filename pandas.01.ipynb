{
 "cells": [
  {
   "cell_type": "code",
   "execution_count": 2,
   "id": "9f33fdea",
   "metadata": {},
   "outputs": [],
   "source": [
    "import numpy as np\n",
    "import pandas as pd"
   ]
  },
  {
   "cell_type": "markdown",
   "id": "2f74059e",
   "metadata": {},
   "source": [
    "Data analysis is a process of inspecting, cleanin, transforming and modellingt data with the goal of discovering useful information, informing conclusion and supporting decision making.\n",
    "\n",
    "\n",
    "### some important libraries for data analysis\n",
    "1. NumPy  (numerical operations)\n",
    "2. SciPy\n",
    "3. SciKit\n",
    "4. pandas  (to modfy data/ clearification)\n",
    "5. Matplotlib   (to visualize data)\n",
    "6. statsmodel\n",
    "7. Seaborn  (to visualize data)\n",
    "\n",
    "\n",
    "# Pandas\n",
    "what is pandas?\n",
    "-pandas library use to handle the data/ cleaning / data manipulation \n",
    "-read and write data strutures and differnet formats:csv, xml, json, Zip etc.\n",
    "\n",
    "## importance of pandas\n",
    "-allow to analyze big data\n",
    "-can work for messy data\n",
    "-easy handeling of missing data\n",
    "-size multability - can insert or delete columns from dataframe and higher dimensional objects\n",
    "-data set merging and joining\n",
    "\n",
    "##  data structures in pandas\n",
    "-Series\n",
    "-DataFrame\n",
    "-Panel\n",
    "\n",
    "## Series \n",
    " one dimensional data structure"
   ]
  },
  {
   "cell_type": "code",
   "execution_count": 3,
   "id": "bd37b9ee",
   "metadata": {},
   "outputs": [
    {
     "name": "stdout",
     "output_type": "stream",
     "text": [
      "0    20\n",
      "dtype: int64\n"
     ]
    }
   ],
   "source": [
    "a=pd.Series(20)\n",
    "print(a)"
   ]
  },
  {
   "cell_type": "code",
   "execution_count": 5,
   "id": "e1509b77",
   "metadata": {},
   "outputs": [
    {
     "name": "stdout",
     "output_type": "stream",
     "text": [
      "0    3\n",
      "1    4\n",
      "2    5\n",
      "3    6\n",
      "4    7\n",
      "5    8\n",
      "6    8\n",
      "dtype: int64\n"
     ]
    }
   ],
   "source": [
    "x=[3,4,5,6,7,8,8]\n",
    "var=pd.Series(x)\n",
    "print(var)"
   ]
  },
  {
   "cell_type": "code",
   "execution_count": 6,
   "id": "6011bbde",
   "metadata": {},
   "outputs": [
    {
     "data": {
      "text/plain": [
       "pandas.core.series.Series"
      ]
     },
     "execution_count": 6,
     "metadata": {},
     "output_type": "execute_result"
    }
   ],
   "source": [
    "type(var)"
   ]
  },
  {
   "cell_type": "code",
   "execution_count": 7,
   "id": "4faf24b7",
   "metadata": {},
   "outputs": [
    {
     "name": "stdout",
     "output_type": "stream",
     "text": [
      "8\n"
     ]
    }
   ],
   "source": [
    "print(var[5])"
   ]
  },
  {
   "cell_type": "code",
   "execution_count": 10,
   "id": "e5de5c5f",
   "metadata": {},
   "outputs": [
    {
     "name": "stdout",
     "output_type": "stream",
     "text": [
      "a    3\n",
      "b    4\n",
      "c    5\n",
      "d    6\n",
      "e    7\n",
      "f    8\n",
      "g    8\n",
      "dtype: int64\n"
     ]
    }
   ],
   "source": [
    "x=[3,4,5,6,7,8,8]  # we can chnage the index no \n",
    "var=pd.Series(x, index=['a','b','c','d','e','f','g'])\n",
    "print(var)"
   ]
  },
  {
   "cell_type": "markdown",
   "id": "4d807d0e",
   "metadata": {},
   "source": [
    "# we can also chnage the data type \n",
    "\n",
    "\n",
    "var=pd.Series(x, index=['a','b','c','d','e','f','g'],dtype=\"float\")\n",
    "print(var)\n",
    "type(var)"
   ]
  },
  {
   "cell_type": "code",
   "execution_count": 13,
   "id": "345bca9e",
   "metadata": {},
   "outputs": [
    {
     "name": "stdout",
     "output_type": "stream",
     "text": [
      "a    3.0\n",
      "b    4.0\n",
      "c    5.0\n",
      "d    6.0\n",
      "e    7.0\n",
      "f    8.0\n",
      "g    8.0\n",
      "Name: python, dtype: float64\n"
     ]
    },
    {
     "data": {
      "text/plain": [
       "pandas.core.series.Series"
      ]
     },
     "execution_count": 13,
     "metadata": {},
     "output_type": "execute_result"
    }
   ],
   "source": [
    "# we can create a nmae for data also \n",
    "var=pd.Series(x, index=['a','b','c','d','e','f','g'],dtype=\"float\", name=\"python\")\n",
    "print(var)\n",
    "type(var)"
   ]
  },
  {
   "cell_type": "markdown",
   "id": "278ec3ab",
   "metadata": {},
   "source": [
    "we can use dictionary , tuple, list in pandas"
   ]
  },
  {
   "cell_type": "code",
   "execution_count": 14,
   "id": "2a7d7e10",
   "metadata": {},
   "outputs": [
    {
     "data": {
      "text/plain": [
       "Name    [python, c, java]\n",
       "Por          [12, 13, 14]\n",
       "Rank            [4, 2, 1]\n",
       "dtype: object"
      ]
     },
     "execution_count": 14,
     "metadata": {},
     "output_type": "execute_result"
    }
   ],
   "source": [
    "dic={\"Name\":[\"python\",\"c\",\"java\"],\"Por\":[12,13,14],\"Rank\":[4,2,1]}\n",
    "var=pd.Series(dic)\n",
    "var   # we get data type s object because we have used mixed data type"
   ]
  },
  {
   "cell_type": "code",
   "execution_count": 16,
   "id": "99948ad0",
   "metadata": {},
   "outputs": [
    {
     "name": "stdout",
     "output_type": "stream",
     "text": [
      "0    12\n",
      "dtype: int64\n"
     ]
    }
   ],
   "source": [
    "s=pd.Series(12)\n",
    "print(s)"
   ]
  },
  {
   "cell_type": "code",
   "execution_count": 17,
   "id": "585a0e29",
   "metadata": {},
   "outputs": [
    {
     "name": "stdout",
     "output_type": "stream",
     "text": [
      "0    12\n",
      "1    12\n",
      "2    12\n",
      "3    12\n",
      "4    12\n",
      "5    12\n",
      "6    12\n",
      "7    12\n",
      "8    12\n",
      "9    12\n",
      "dtype: int64\n",
      "<class 'pandas.core.series.Series'>\n"
     ]
    }
   ],
   "source": [
    "s=pd.Series(12,index=[0,1,2,3,4,5,6,7,8,9])\n",
    "print(s)\n",
    "print(type(s))"
   ]
  },
  {
   "cell_type": "code",
   "execution_count": 19,
   "id": "8b54fabc",
   "metadata": {},
   "outputs": [
    {
     "name": "stdout",
     "output_type": "stream",
     "text": [
      "0     NaN\n",
      "1     NaN\n",
      "2     NaN\n",
      "3     NaN\n",
      "4     NaN\n",
      "5    24.0\n",
      "6    24.0\n",
      "7    24.0\n",
      "8    24.0\n",
      "9    24.0\n",
      "dtype: float64\n"
     ]
    }
   ],
   "source": [
    "s1=pd.Series(12,index=[0,1,2,3,4,5,6,7,8,9])\n",
    "s2=pd.Series(12,index=[5,6,7,8,9])\n",
    "\n",
    "print(s1+s2)# it works with missing data sd it doesn't show error \n"
   ]
  },
  {
   "cell_type": "markdown",
   "id": "f12f8f07",
   "metadata": {},
   "source": [
    "# DataFrame\n",
    "\n",
    "dataframe can be created with the help of list or dictionary\n"
   ]
  },
  {
   "cell_type": "code",
   "execution_count": 20,
   "id": "71e6a627",
   "metadata": {},
   "outputs": [
    {
     "data": {
      "text/html": [
       "<div>\n",
       "<style scoped>\n",
       "    .dataframe tbody tr th:only-of-type {\n",
       "        vertical-align: middle;\n",
       "    }\n",
       "\n",
       "    .dataframe tbody tr th {\n",
       "        vertical-align: top;\n",
       "    }\n",
       "\n",
       "    .dataframe thead th {\n",
       "        text-align: right;\n",
       "    }\n",
       "</style>\n",
       "<table border=\"1\" class=\"dataframe\">\n",
       "  <thead>\n",
       "    <tr style=\"text-align: right;\">\n",
       "      <th></th>\n",
       "      <th>0</th>\n",
       "    </tr>\n",
       "  </thead>\n",
       "  <tbody>\n",
       "    <tr>\n",
       "      <th>0</th>\n",
       "      <td>3</td>\n",
       "    </tr>\n",
       "    <tr>\n",
       "      <th>1</th>\n",
       "      <td>4</td>\n",
       "    </tr>\n",
       "    <tr>\n",
       "      <th>2</th>\n",
       "      <td>5</td>\n",
       "    </tr>\n",
       "    <tr>\n",
       "      <th>3</th>\n",
       "      <td>6</td>\n",
       "    </tr>\n",
       "    <tr>\n",
       "      <th>4</th>\n",
       "      <td>7</td>\n",
       "    </tr>\n",
       "    <tr>\n",
       "      <th>5</th>\n",
       "      <td>8</td>\n",
       "    </tr>\n",
       "    <tr>\n",
       "      <th>6</th>\n",
       "      <td>8</td>\n",
       "    </tr>\n",
       "  </tbody>\n",
       "</table>\n",
       "</div>"
      ],
      "text/plain": [
       "   0\n",
       "0  3\n",
       "1  4\n",
       "2  5\n",
       "3  6\n",
       "4  7\n",
       "5  8\n",
       "6  8"
      ]
     },
     "execution_count": 20,
     "metadata": {},
     "output_type": "execute_result"
    }
   ],
   "source": [
    "var=pd.DataFrame(x) # creating dataframe with the help of list\n",
    "var"
   ]
  },
  {
   "cell_type": "code",
   "execution_count": 21,
   "id": "b6164d01",
   "metadata": {},
   "outputs": [
    {
     "data": {
      "text/plain": [
       "pandas.core.frame.DataFrame"
      ]
     },
     "execution_count": 21,
     "metadata": {},
     "output_type": "execute_result"
    }
   ],
   "source": [
    "type(var)"
   ]
  },
  {
   "cell_type": "code",
   "execution_count": 30,
   "id": "89c51ce3",
   "metadata": {},
   "outputs": [
    {
     "name": "stdout",
     "output_type": "stream",
     "text": [
      "   a   s\n",
      "0  1   6\n",
      "1  2   7\n",
      "2  3   8\n",
      "3  4   9\n",
      "4  5  10\n",
      "<class 'pandas.core.frame.DataFrame'>\n"
     ]
    }
   ],
   "source": [
    "d={\"a\":[1,2,3,4,5],\"s\":[6,7,8,9,10]} # creatinga dataframe with the help of dictionary\n",
    "var=pd.DataFrame(d)\n",
    "print(var)\n",
    "print(type(var))"
   ]
  },
  {
   "cell_type": "code",
   "execution_count": 25,
   "id": "cd008baf",
   "metadata": {},
   "outputs": [
    {
     "name": "stdout",
     "output_type": "stream",
     "text": [
      "   a\n",
      "0  1\n",
      "1  2\n",
      "2  3\n",
      "3  4\n",
      "4  5\n",
      "<class 'pandas.core.frame.DataFrame'>\n"
     ]
    }
   ],
   "source": [
    "var=pd.DataFrame(d, columns=[\"a\"]) # to get only one column\n",
    "print(var)\n",
    "print(type(var))"
   ]
  },
  {
   "cell_type": "code",
   "execution_count": 26,
   "id": "9ff76e61",
   "metadata": {},
   "outputs": [
    {
     "name": "stdout",
     "output_type": "stream",
     "text": [
      "   a  d\n",
      "0  1  1\n",
      "1  2  2\n",
      "2  3  3\n",
      "3  4  4\n",
      "4  5  5\n",
      "<class 'pandas.core.frame.DataFrame'>\n"
     ]
    }
   ],
   "source": [
    "d[\"d\"]=[1,2,3,4,5] # creating a  new column in dataframe\n",
    "var=pd.DataFrame(d, columns=[\"a\",\"d\"]) # to get only one column\n",
    "print(var)\n",
    "print(type(var))"
   ]
  },
  {
   "cell_type": "code",
   "execution_count": 27,
   "id": "62af4b68",
   "metadata": {},
   "outputs": [
    {
     "name": "stdout",
     "output_type": "stream",
     "text": [
      "   a  d\n",
      "6  1  1\n",
      "7  2  2\n",
      "8  3  3\n",
      "9  4  4\n",
      "0  5  5\n"
     ]
    }
   ],
   "source": [
    "# we can also change the index no\n",
    "var1=pd.DataFrame(d, columns=[\"a\",\"d\"], index=[6,7,8,9,0])\n",
    "print(var1)\n",
    "\n"
   ]
  },
  {
   "cell_type": "code",
   "execution_count": 34,
   "id": "aa1213be",
   "metadata": {},
   "outputs": [
    {
     "name": "stdout",
     "output_type": "stream",
     "text": [
      "   a   s  d\n",
      "0  1   6  1\n",
      "1  2   7  2\n",
      "2  3   8  3\n",
      "3  4   9  4\n",
      "4  5  10  5\n"
     ]
    }
   ],
   "source": [
    "var[\"d\"]=[1,2,3,4,5]\n",
    "print(var)"
   ]
  },
  {
   "cell_type": "code",
   "execution_count": 35,
   "id": "6cd3190a",
   "metadata": {},
   "outputs": [
    {
     "name": "stdout",
     "output_type": "stream",
     "text": [
      "4\n"
     ]
    }
   ],
   "source": [
    "# we wwant 3 index no in \"a\" data\n",
    "print(var[\"a\"][3]) # we can get a particular data like this "
   ]
  },
  {
   "cell_type": "code",
   "execution_count": 40,
   "id": "4f98e313",
   "metadata": {},
   "outputs": [
    {
     "data": {
      "text/html": [
       "<div>\n",
       "<style scoped>\n",
       "    .dataframe tbody tr th:only-of-type {\n",
       "        vertical-align: middle;\n",
       "    }\n",
       "\n",
       "    .dataframe tbody tr th {\n",
       "        vertical-align: top;\n",
       "    }\n",
       "\n",
       "    .dataframe thead th {\n",
       "        text-align: right;\n",
       "    }\n",
       "</style>\n",
       "<table border=\"1\" class=\"dataframe\">\n",
       "  <thead>\n",
       "    <tr style=\"text-align: right;\">\n",
       "      <th></th>\n",
       "      <th>0</th>\n",
       "      <th>1</th>\n",
       "      <th>2</th>\n",
       "      <th>3</th>\n",
       "      <th>4</th>\n",
       "      <th>5</th>\n",
       "      <th>6</th>\n",
       "      <th>7</th>\n",
       "      <th>8</th>\n",
       "      <th>9</th>\n",
       "    </tr>\n",
       "  </thead>\n",
       "  <tbody>\n",
       "    <tr>\n",
       "      <th>0</th>\n",
       "      <td>1</td>\n",
       "      <td>2</td>\n",
       "      <td>3</td>\n",
       "      <td>4</td>\n",
       "      <td>5</td>\n",
       "      <td>6</td>\n",
       "      <td>7</td>\n",
       "      <td>8</td>\n",
       "      <td>9</td>\n",
       "      <td>0</td>\n",
       "    </tr>\n",
       "    <tr>\n",
       "      <th>1</th>\n",
       "      <td>1</td>\n",
       "      <td>2</td>\n",
       "      <td>3</td>\n",
       "      <td>4</td>\n",
       "      <td>5</td>\n",
       "      <td>6</td>\n",
       "      <td>7</td>\n",
       "      <td>8</td>\n",
       "      <td>9</td>\n",
       "      <td>0</td>\n",
       "    </tr>\n",
       "  </tbody>\n",
       "</table>\n",
       "</div>"
      ],
      "text/plain": [
       "   0  1  2  3  4  5  6  7  8  9\n",
       "0  1  2  3  4  5  6  7  8  9  0\n",
       "1  1  2  3  4  5  6  7  8  9  0"
      ]
     },
     "execution_count": 40,
     "metadata": {},
     "output_type": "execute_result"
    }
   ],
   "source": [
    "list_1=[[1,2,3,4,5,6,7,8,9,0],[1,2,3,4,5,6,7,8,9,0]]\n",
    "a=pd.DataFrame(list_1)\n",
    "a\n"
   ]
  },
  {
   "cell_type": "code",
   "execution_count": 45,
   "id": "a7839742",
   "metadata": {},
   "outputs": [
    {
     "name": "stdout",
     "output_type": "stream",
     "text": [
      "   s  R\n",
      "0  1  5\n",
      "1  2  6\n",
      "2  3  7\n",
      "3  4  8\n"
     ]
    }
   ],
   "source": [
    "sr={\"s\":pd.Series([1,2,3,4]),\"R\":pd.Series([5,6,7,8])}\n",
    "var3=pd.DataFrame(sr)# we can create dataframe from multiple series\n",
    "print(var3)"
   ]
  },
  {
   "cell_type": "code",
   "execution_count": 48,
   "id": "d8b14673",
   "metadata": {},
   "outputs": [
    {
     "name": "stdout",
     "output_type": "stream",
     "text": [
      "   s  R   t\n",
      "0  1  5  23\n",
      "1  2  6  45\n",
      "2  3  7  67\n",
      "3  4  8  89\n",
      "<class 'pandas.core.frame.DataFrame'>\n"
     ]
    }
   ],
   "source": [
    "sr[\"t\"]=[23,45,67,89]\n",
    "var3=pd.DataFrame(sr)\n",
    "print(var3)\n",
    "print(type(var3))"
   ]
  },
  {
   "cell_type": "code",
   "execution_count": null,
   "id": "940753f6",
   "metadata": {},
   "outputs": [],
   "source": []
  }
 ],
 "metadata": {
  "kernelspec": {
   "display_name": "Python 3 (ipykernel)",
   "language": "python",
   "name": "python3"
  },
  "language_info": {
   "codemirror_mode": {
    "name": "ipython",
    "version": 3
   },
   "file_extension": ".py",
   "mimetype": "text/x-python",
   "name": "python",
   "nbconvert_exporter": "python",
   "pygments_lexer": "ipython3",
   "version": "3.11.5"
  }
 },
 "nbformat": 4,
 "nbformat_minor": 5
}
