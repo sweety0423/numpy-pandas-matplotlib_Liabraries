{
 "cells": [
  {
   "cell_type": "markdown",
   "id": "07f2c767",
   "metadata": {},
   "source": [
    "# Reshaping numpy arrays"
   ]
  },
  {
   "cell_type": "code",
   "execution_count": 1,
   "id": "7c67e2ec",
   "metadata": {},
   "outputs": [],
   "source": [
    "import numpy as np"
   ]
  },
  {
   "cell_type": "code",
   "execution_count": 7,
   "id": "4b52bb36",
   "metadata": {},
   "outputs": [
    {
     "data": {
      "text/plain": [
       "array([[ 6,  7],\n",
       "       [ 8,  9],\n",
       "       [10, 11]])"
      ]
     },
     "execution_count": 7,
     "metadata": {},
     "output_type": "execute_result"
    }
   ],
   "source": [
    "arr4=np.arange(6,12).reshape(3,2)\n",
    "arr4\n"
   ]
  },
  {
   "cell_type": "code",
   "execution_count": 8,
   "id": "a3d20bd0",
   "metadata": {},
   "outputs": [
    {
     "data": {
      "text/plain": [
       "2"
      ]
     },
     "execution_count": 8,
     "metadata": {},
     "output_type": "execute_result"
    }
   ],
   "source": [
    "arr4.ndim"
   ]
  },
  {
   "cell_type": "markdown",
   "id": "a56f7e76",
   "metadata": {},
   "source": [
    "# Ravel functon is used to get higher dimensions array into one dimension\n"
   ]
  },
  {
   "cell_type": "code",
   "execution_count": 9,
   "id": "8dcbc27c",
   "metadata": {},
   "outputs": [
    {
     "data": {
      "text/plain": [
       "array([ 6,  7,  8,  9, 10, 11])"
      ]
     },
     "execution_count": 9,
     "metadata": {},
     "output_type": "execute_result"
    }
   ],
   "source": [
    "arr4.ravel() # array shape is now changed"
   ]
  },
  {
   "cell_type": "markdown",
   "id": "fb1eb8ce",
   "metadata": {},
   "source": [
    "# reshape \n",
    "this function only works when range is the factor of items eg 24 items then 6,4 or 4,6 or 8,3 or 3,8"
   ]
  },
  {
   "cell_type": "markdown",
   "id": "95155ada",
   "metadata": {},
   "source": [
    "# Transpose\n",
    "convert the rows into column and vica versa"
   ]
  },
  {
   "cell_type": "code",
   "execution_count": 10,
   "id": "748bb24a",
   "metadata": {},
   "outputs": [
    {
     "data": {
      "text/plain": [
       "array([[ 6,  8, 10],\n",
       "       [ 7,  9, 11]])"
      ]
     },
     "execution_count": 10,
     "metadata": {},
     "output_type": "execute_result"
    }
   ],
   "source": [
    "arr4.transpose()"
   ]
  },
  {
   "cell_type": "markdown",
   "id": "4aa4a599",
   "metadata": {},
   "source": [
    "assignment: if it is a 2d or 3d or multidimension array or vector in space, what would be the transpose ?"
   ]
  },
  {
   "cell_type": "markdown",
   "id": "aea62604",
   "metadata": {},
   "source": [
    "# stacking\n",
    "It is a trick through which we can combine 2 arrays"
   ]
  },
  {
   "cell_type": "code",
   "execution_count": 11,
   "id": "00da3ec1",
   "metadata": {},
   "outputs": [
    {
     "data": {
      "text/plain": [
       "array([[ 6,  7],\n",
       "       [ 8,  9],\n",
       "       [10, 11]])"
      ]
     },
     "execution_count": 11,
     "metadata": {},
     "output_type": "execute_result"
    }
   ],
   "source": [
    "arr4"
   ]
  },
  {
   "cell_type": "code",
   "execution_count": 15,
   "id": "4bd6a801",
   "metadata": {},
   "outputs": [
    {
     "data": {
      "text/plain": [
       "array([[0, 1, 2],\n",
       "       [3, 4, 5]])"
      ]
     },
     "execution_count": 15,
     "metadata": {},
     "output_type": "execute_result"
    }
   ],
   "source": [
    "arr3=np.array([0,1,2,3,4,5]).reshape(2,3)\n",
    "arr3"
   ]
  },
  {
   "cell_type": "code",
   "execution_count": 17,
   "id": "733e974c",
   "metadata": {},
   "outputs": [
    {
     "data": {
      "text/plain": [
       "array([[ 6,  7,  8],\n",
       "       [ 9, 10, 11]])"
      ]
     },
     "execution_count": 17,
     "metadata": {},
     "output_type": "execute_result"
    }
   ],
   "source": [
    "arr4.reshape(2,3)\n"
   ]
  },
  {
   "cell_type": "code",
   "execution_count": 18,
   "id": "93ac3905",
   "metadata": {},
   "outputs": [
    {
     "data": {
      "text/plain": [
       "array([[12, 13, 14],\n",
       "       [15, 16, 17]])"
      ]
     },
     "execution_count": 18,
     "metadata": {},
     "output_type": "execute_result"
    }
   ],
   "source": [
    "arr5=np.arange(12,18).reshape(2,3)\n",
    "arr5"
   ]
  },
  {
   "cell_type": "code",
   "execution_count": 20,
   "id": "2f42e0a5",
   "metadata": {},
   "outputs": [
    {
     "data": {
      "text/plain": [
       "array([[ 0,  1,  2, 12, 13, 14],\n",
       "       [ 3,  4,  5, 15, 16, 17]])"
      ]
     },
     "execution_count": 20,
     "metadata": {},
     "output_type": "execute_result"
    }
   ],
   "source": [
    "np.hstack((arr3,arr5))#horizontally stacking"
   ]
  },
  {
   "cell_type": "code",
   "execution_count": 21,
   "id": "a1faf33d",
   "metadata": {},
   "outputs": [
    {
     "data": {
      "text/plain": [
       "array([[ 0,  1,  2],\n",
       "       [ 3,  4,  5],\n",
       "       [12, 13, 14],\n",
       "       [15, 16, 17]])"
      ]
     },
     "execution_count": 21,
     "metadata": {},
     "output_type": "execute_result"
    }
   ],
   "source": [
    "np.vstack((arr3,arr5))# verticel stacking"
   ]
  },
  {
   "cell_type": "markdown",
   "id": "b4165b38",
   "metadata": {},
   "source": [
    "real life senario example where this stacking can be useful\n",
    "eg:  we can club the multiple column data having same header like name , marks of diffeent colleges "
   ]
  },
  {
   "cell_type": "markdown",
   "id": "cb97e605",
   "metadata": {},
   "source": [
    "# spliting the arrays"
   ]
  },
  {
   "cell_type": "code",
   "execution_count": 22,
   "id": "9f6aff11",
   "metadata": {},
   "outputs": [
    {
     "data": {
      "text/plain": [
       "array([[0, 1, 2],\n",
       "       [3, 4, 5]])"
      ]
     },
     "execution_count": 22,
     "metadata": {},
     "output_type": "execute_result"
    }
   ],
   "source": [
    "arr3"
   ]
  },
  {
   "cell_type": "code",
   "execution_count": 23,
   "id": "12a2bf01",
   "metadata": {},
   "outputs": [
    {
     "data": {
      "text/plain": [
       "[array([[0],\n",
       "        [3]]),\n",
       " array([[1],\n",
       "        [4]]),\n",
       " array([[2],\n",
       "        [5]])]"
      ]
     },
     "execution_count": 23,
     "metadata": {},
     "output_type": "execute_result"
    }
   ],
   "source": [
    "np.hsplit(arr3,3) # horizontally split the array into 3 parts "
   ]
  },
  {
   "cell_type": "code",
   "execution_count": 24,
   "id": "53ea1324",
   "metadata": {},
   "outputs": [
    {
     "data": {
      "text/plain": [
       "[array([[0, 1, 2]]), array([[3, 4, 5]])]"
      ]
     },
     "execution_count": 24,
     "metadata": {},
     "output_type": "execute_result"
    }
   ],
   "source": [
    "np.vsplit(arr3,2) #vertically split the array into 2 parts"
   ]
  },
  {
   "cell_type": "markdown",
   "id": "15181316",
   "metadata": {},
   "source": [
    "practically use of this eg: brachwise we have sorted the students then split the students acc to sections"
   ]
  },
  {
   "cell_type": "code",
   "execution_count": null,
   "id": "266131cc",
   "metadata": {},
   "outputs": [],
   "source": []
  }
 ],
 "metadata": {
  "kernelspec": {
   "display_name": "Python 3 (ipykernel)",
   "language": "python",
   "name": "python3"
  },
  "language_info": {
   "codemirror_mode": {
    "name": "ipython",
    "version": 3
   },
   "file_extension": ".py",
   "mimetype": "text/x-python",
   "name": "python",
   "nbconvert_exporter": "python",
   "pygments_lexer": "ipython3",
   "version": "3.11.5"
  }
 },
 "nbformat": 4,
 "nbformat_minor": 5
}
